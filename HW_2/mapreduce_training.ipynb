{
 "cells": [
  {
   "cell_type": "markdown",
   "metadata": {},
   "source": [
    "# Шаги mapreduce для карт\n",
    "Предварительные наброски кода.\n",
    "\n",
    "- Deck – колода\n",
    "- Suit – масть\n",
    "- Hearts – червы\n",
    "- Diamonds – бубны\n",
    "- Clubs – трефы\n",
    "- Spades – пики\n",
    "- Jack – валет\n",
    "- Queen – дама\n",
    "- King – король\n",
    "- Ace – туз\n",
    "- Joker – джокер"
   ]
  },
  {
   "cell_type": "markdown",
   "metadata": {},
   "source": [
    "## Map\n",
    "Запишем поток строк в более удобном виде и оставим все значения больше шестерки."
   ]
  },
  {
   "cell_type": "code",
   "execution_count": null,
   "metadata": {},
   "outputs": [],
   "source": [
    "with open('cards.csv') as f:\n",
    "    for i, line in enumerate(f):\n",
    "        suit, value = line.strip().split(',')\n",
    "        print(suit, value)\n",
    "        \n",
    "        if i > 5:\n",
    "            break"
   ]
  },
  {
   "cell_type": "code",
   "execution_count": null,
   "metadata": {},
   "outputs": [],
   "source": [
    "SUITES = {\n",
    "    'червы': 'H',\n",
    "    'пики': 'S',\n",
    "    'бубны': 'D',\n",
    "    'трефы': 'C',\n",
    "}\n",
    "\n",
    "VALUES = {\n",
    "    'валет': 'J',\n",
    "    'дама': 'Q',\n",
    "    'король': 'K',\n",
    "    'туз': 'A',\n",
    "}"
   ]
  },
  {
   "cell_type": "code",
   "execution_count": null,
   "metadata": {},
   "outputs": [],
   "source": [
    "with open('cards.csv') as f:\n",
    "    for i, line in enumerate(f):\n",
    "        suit, value = line.strip().split(',')\n",
    "        \n",
    "        suit = SUITES[suit]\n",
    "        \n",
    "        if value in VALUES:\n",
    "            value = VALUES[value]\n",
    "        \n",
    "        print(f'{suit},{value},1')\n",
    "        \n",
    "        if i > 5:\n",
    "            break"
   ]
  },
  {
   "cell_type": "code",
   "execution_count": null,
   "metadata": {},
   "outputs": [],
   "source": [
    "with open('cards_after_mapper.csv', 'w') as f_mapper:\n",
    "    with open('cards.csv') as f:\n",
    "        for i, line in enumerate(f):\n",
    "            suit, value = line.strip().split(',')\n",
    "\n",
    "            suit = SUITES[suit]\n",
    "\n",
    "            if value in VALUES:\n",
    "                value = VALUES[value]\n",
    "\n",
    "            if value.isdigit() and int(value) >= 6:\n",
    "                f_mapper.write(f'{suit},{value},1\\n')"
   ]
  },
  {
   "cell_type": "markdown",
   "metadata": {},
   "source": [
    "## Shuffle\n",
    "```\n",
    "cat cards_after_mapper.csv | sort > cards_sorted.csv\n",
    "```"
   ]
  },
  {
   "cell_type": "markdown",
   "metadata": {},
   "source": [
    "## Reduce\n",
    "Сначала посчитаем количество мастей карт"
   ]
  },
  {
   "cell_type": "code",
   "execution_count": null,
   "metadata": {},
   "outputs": [],
   "source": [
    "with open('cards_sorted.csv') as f:\n",
    "    for i, line in enumerate(f):\n",
    "        suit, value, one = line.strip().split(',')\n",
    "        print(suit, value, one)\n",
    "        \n",
    "        if i > 5:\n",
    "            break"
   ]
  },
  {
   "cell_type": "code",
   "execution_count": null,
   "metadata": {
    "scrolled": true
   },
   "outputs": [],
   "source": [
    "previous_suit = None\n",
    "suit_count = 0\n",
    "\n",
    "with open('cards_sorted.csv') as f:\n",
    "    for i, line in enumerate(f):\n",
    "        suit, value, one = line.strip().split(',')\n",
    "        one = int(one)\n",
    "        \n",
    "        if previous_suit:\n",
    "            if previous_suit == suit:\n",
    "                suit_count += one\n",
    "            else:\n",
    "                print(previous_suit, suit_count)\n",
    "                suit_count = one\n",
    "                previous_suit = suit\n",
    "        else:\n",
    "            previous_suit = suit\n",
    "            suit_count = one\n",
    "        \n",
    "print(previous_suit, suit_count)"
   ]
  },
  {
   "cell_type": "markdown",
   "metadata": {},
   "source": [
    "Уберем дубликат строчки\n",
    "```python\n",
    "previous_suit = suit\n",
    "```"
   ]
  },
  {
   "cell_type": "code",
   "execution_count": null,
   "metadata": {},
   "outputs": [],
   "source": [
    "previous_suit = None\n",
    "suit_count = 0\n",
    "\n",
    "with open('cards_sorted.csv') as f:\n",
    "    for i, line in enumerate(f):\n",
    "        suit, value, one = line.strip().split(',')\n",
    "        one = int(one)\n",
    "        \n",
    "        if previous_suit:\n",
    "            if previous_suit == suit:\n",
    "                suit_count += one\n",
    "            else:\n",
    "                print(previous_suit, suit_count)\n",
    "                suit_count = one   \n",
    "        else:\n",
    "            suit_count = one\n",
    "        \n",
    "        previous_suit = suit\n",
    "        \n",
    "print(previous_suit, suit_count)"
   ]
  },
  {
   "cell_type": "markdown",
   "metadata": {},
   "source": [
    "## Reduce v2\n",
    "Посчитаем статистику для пар масть + значение"
   ]
  },
  {
   "cell_type": "code",
   "execution_count": null,
   "metadata": {},
   "outputs": [],
   "source": [
    "previous_suit = None\n",
    "previous_value = None\n",
    "\n",
    "count = 0\n",
    "\n",
    "with open('cards_sorted.csv') as f:\n",
    "    for i, line in enumerate(f):\n",
    "        suit, value, one = line.strip().split(',')\n",
    "        one = int(one)\n",
    "        \n",
    "        if previous_suit:\n",
    "            if previous_suit == suit and previous_value == value:\n",
    "                count += one\n",
    "            else:\n",
    "                print(previous_suit, previous_value, count)\n",
    "                \n",
    "                previous_suit = suit\n",
    "                previous_value = value\n",
    "                count = one\n",
    "                \n",
    "        else:\n",
    "            previous_suit = suit\n",
    "            previous_value = value\n",
    "            count = one\n",
    "            \n",
    "print(previous_suit, previous_value, count)"
   ]
  }
 ],
 "metadata": {
  "kernelspec": {
   "display_name": "Python 3",
   "language": "python",
   "name": "python3"
  },
  "language_info": {
   "codemirror_mode": {
    "name": "ipython",
    "version": 3
   },
   "file_extension": ".py",
   "mimetype": "text/x-python",
   "name": "python",
   "nbconvert_exporter": "python",
   "pygments_lexer": "ipython3",
   "version": "3.7.0"
  }
 },
 "nbformat": 4,
 "nbformat_minor": 2
}
